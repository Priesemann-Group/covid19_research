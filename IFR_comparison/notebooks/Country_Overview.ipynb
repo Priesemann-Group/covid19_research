{
 "cells": [
  {
   "cell_type": "code",
   "execution_count": 1,
   "metadata": {},
   "outputs": [],
   "source": [
    "import numpy as np\n",
    "import datetime\n",
    "import pandas as pd\n",
    "\n",
    "import time\n",
    "import pickle\n",
    "\n",
    "from math import log10, floor\n",
    "\n",
    "import matplotlib.pyplot as plt\n",
    "import matplotlib\n",
    "\n"
   ]
  },
  {
   "cell_type": "code",
   "execution_count": 4,
   "metadata": {},
   "outputs": [],
   "source": [
    "class Country(object):\n",
    "    def __init__(self,name,iso):\n",
    "        self.name = name\n",
    "        self.iso = iso\n",
    "        \n",
    "class BasicCountry(Country):\n",
    "    def __init__(self,name,iso):\n",
    "        super(BasicCountry,self).__init__(name,iso)\n",
    "        \n",
    "        \n",
    "class Swizerland(Country):\n",
    "    def __init__(self,name,iso):\n",
    "        super(Swizerland,self).__init__(name,iso)\n",
    "        \n",
    "class Germany(Country):\n",
    "    def __init__(self,name,iso):\n",
    "        super(Germany,self).__init__(name,iso)"
   ]
  },
  {
   "cell_type": "code",
   "execution_count": 7,
   "metadata": {},
   "outputs": [
    {
     "name": "stdout",
     "output_type": "stream",
     "text": [
      "{'CZ': <__main__.BasicCountry object at 0x11b3e0d90>, 'NL': <__main__.BasicCountry object at 0x11b3e0cd0>, 'PTG': <__main__.BasicCountry object at 0x11b3e0d10>, 'BE': <__main__.BasicCountry object at 0x11b33b910>, 'DE': <__main__.Germany object at 0x11b33b7d0>, 'CHE': <__main__.Swizerland object at 0x11b41a890>}\n"
     ]
    }
   ],
   "source": [
    "cntrs = {}\n",
    "cntrs[\"CZ\"] = {\"name\":\"Czech Republic\",\"class\":BasicCountry}\n",
    "cntrs[\"NL\"] = {\"name\":\"Netherlands\",\"class\":BasicCountry}\n",
    "cntrs[\"PTG\"] = {\"name\":\"Portugal\",\"class\":BasicCountry}\n",
    "cntrs[\"BE\"] = {\"name\":\"Belgium\",\"class\":BasicCountry}\n",
    "\n",
    "cntrs[\"DE\"] = {\"name\":\"Germany\",\"class\":Germany}\n",
    "cntrs[\"CHE\"] = {\"name\":\"Swizerland\",\"class\":Swizerland}\n",
    "\n",
    "countries = {}\n",
    "for iso,cntry in cntrs.items():\n",
    "    countries[iso] = cntry[\"class\"](cntry[\"name\"],iso)\n",
    "\n",
    "\n",
    "print(countries)"
   ]
  },
  {
   "cell_type": "code",
   "execution_count": null,
   "metadata": {},
   "outputs": [],
   "source": []
  }
 ],
 "metadata": {
  "kernelspec": {
   "display_name": "Python 3",
   "language": "python",
   "name": "python3"
  },
  "language_info": {
   "codemirror_mode": {
    "name": "ipython",
    "version": 3
   },
   "file_extension": ".py",
   "mimetype": "text/x-python",
   "name": "python",
   "nbconvert_exporter": "python",
   "pygments_lexer": "ipython3",
   "version": "3.7.9"
  }
 },
 "nbformat": 4,
 "nbformat_minor": 4
}
