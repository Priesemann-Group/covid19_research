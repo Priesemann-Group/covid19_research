{
 "cells": [
  {
   "cell_type": "code",
   "execution_count": 1,
   "metadata": {
    "execution": {
     "iopub.execute_input": "2020-05-22T10:24:48.282105Z",
     "iopub.status.busy": "2020-05-22T10:24:48.280931Z",
     "iopub.status.idle": "2020-05-22T10:24:48.283560Z",
     "shell.execute_reply": "2020-05-22T10:24:48.283892Z"
    },
    "papermill": {
     "duration": 0.015995,
     "end_time": "2020-05-22T10:24:48.284014",
     "exception": false,
     "start_time": "2020-05-22T10:24:48.268019",
     "status": "completed"
    },
    "tags": []
   },
   "outputs": [],
   "source": [
    "import json\n",
    "import datetime"
   ]
  },
  {
   "cell_type": "markdown",
   "metadata": {
    "papermill": {
     "duration": 0.01013,
     "end_time": "2020-05-22T10:24:48.305836",
     "exception": false,
     "start_time": "2020-05-22T10:24:48.295706",
     "status": "completed"
    },
    "tags": []
   },
   "source": [
    "# Creating a data object for each Country\n",
    "\n",
    "Available here at the moment: Austria, Belgium, Czechia, Denmark, France, Netherland, Poland, Switzerland (Luxembourg ignored for now)\n",
    "\n",
    "We create an countries dictonary which hold each country with __change points__, __population size__, __new-__ and __total cases__. Total and new cases get constructed via a loop at the bottom of this notebook."
   ]
  },
  {
   "cell_type": "code",
   "execution_count": 2,
   "metadata": {
    "execution": {
     "iopub.execute_input": "2020-05-22T10:24:48.329255Z",
     "iopub.status.busy": "2020-05-22T10:24:48.328830Z",
     "iopub.status.idle": "2020-05-22T10:24:48.330201Z",
     "shell.execute_reply": "2020-05-22T10:24:48.330534Z"
    },
    "papermill": {
     "duration": 0.014451,
     "end_time": "2020-05-22T10:24:48.330634",
     "exception": false,
     "start_time": "2020-05-22T10:24:48.316183",
     "status": "completed"
    },
    "tags": []
   },
   "outputs": [],
   "source": [
    "countries = {}"
   ]
  },
  {
   "cell_type": "markdown",
   "metadata": {
    "papermill": {
     "duration": 0.00998,
     "end_time": "2020-05-22T10:24:48.350522",
     "exception": false,
     "start_time": "2020-05-22T10:24:48.340542",
     "status": "completed"
    },
    "tags": []
   },
   "source": [
    "By running this whole file i.e. `%run change_points.ipynb` you get this countries dictionary."
   ]
  },
  {
   "cell_type": "markdown",
   "metadata": {
    "papermill": {
     "duration": 0.01001,
     "end_time": "2020-05-22T10:24:48.370499",
     "exception": false,
     "start_time": "2020-05-22T10:24:48.360489",
     "status": "completed"
    },
    "tags": []
   },
   "source": [
    "## Austria\n",
    "Mostly copied from\n",
    "https://github.com/Konrad982/covid19_inference/blob/master/scripts/Austria_JHU.ipynb\n",
    "\n",
    "\n",
    "\n",
    "For the choice of changing points, see [Imperial College Report](https://www.imperial.ac.uk/media/imperial-college/medicine/mrc-gida/2020-03-30-COVID19-Report-13.pdf) and [Wikipedia timeline](https://en.wikipedia.org/wiki/2020_coronavirus_pandemic_in_Austria).\n",
    "\n",
    "The following change points were choosen:\n",
    "* __10/03__ Ban on public events\n",
    "* __16/03__ We assume school closures to take effect on Monday together with the strong social distancing [(ref)](https://www.reuters.com/article/us-health-coronavirus-austria/austria-closing-schools-over-coronavirus-as-border-checks-take-effect-idUSKBN20Y2YC)\n",
    "* __30/03__ Mask obligation in stores came into effect\n",
    "* __11/04__ Before easter\n",
    "* __14/04__ After easter as change points and it became obligatory to wear face masks on public transport\n",
    "* __30/04__ Rules relaxed but also further mask obligation"
   ]
  },
  {
   "cell_type": "code",
   "execution_count": 3,
   "metadata": {
    "execution": {
     "iopub.execute_input": "2020-05-22T10:24:48.397092Z",
     "iopub.status.busy": "2020-05-22T10:24:48.396646Z",
     "iopub.status.idle": "2020-05-22T10:24:48.397977Z",
     "shell.execute_reply": "2020-05-22T10:24:48.398305Z"
    },
    "papermill": {
     "duration": 0.017758,
     "end_time": "2020-05-22T10:24:48.398404",
     "exception": false,
     "start_time": "2020-05-22T10:24:48.380646",
     "status": "completed"
    },
    "tags": []
   },
   "outputs": [],
   "source": [
    "prior_date_public_events_banned =  datetime.datetime(2020,3,10)\n",
    "prior_date_confinement_begin =  datetime.datetime(2020,3,16)\n",
    "prior_date_mask_obligation = datetime.datetime(2020,3,30)\n",
    "prior_date_easter_begin =  datetime.datetime(2020,4,10)\n",
    "prior_date_easter_end =  datetime.datetime(2020,4,14)\n",
    "prior_date_rules_relaxed = datetime.datetime(2020,4,30)\n",
    "\n",
    "change_points = [dict(pr_mean_date_transient = prior_date_public_events_banned,\n",
    "                      pr_sigma_date_transient = 3, #lower\n",
    "                      pr_median_lambda = 0.2,\n",
    "                      pr_sigma_lambda = 1),\n",
    "                dict(pr_mean_date_transient = prior_date_confinement_begin,\n",
    "                      pr_sigma_date_transient = 3, #lower\n",
    "                      pr_median_lambda = 1/8,\n",
    "                      pr_sigma_lambda = 1),\n",
    "                 dict(pr_mean_date_transient = prior_date_mask_obligation,\n",
    "                      pr_sigma_date_transient = 6,\n",
    "                      pr_median_lambda = 1/16,\n",
    "                      pr_sigma_lambda = 1),\n",
    "                dict(pr_mean_date_transient = prior_date_easter_begin,\n",
    "                      pr_sigma_date_transient = 3, #lower\n",
    "                      pr_median_lambda = 1/8,\n",
    "                      pr_sigma_lambda = 1),\n",
    "                dict(pr_mean_date_transient = prior_date_easter_end,\n",
    "                      pr_sigma_date_transient = 3, #lower\n",
    "                      pr_median_lambda = 1/16,\n",
    "                      pr_sigma_lambda = 1),\n",
    "                dict(pr_mean_date_transient = prior_date_rules_relaxed,\n",
    "                      pr_sigma_date_transient = 3, #lower\n",
    "                      pr_median_lambda = 1/16,\n",
    "                      pr_sigma_lambda = 1)]\n",
    "\n",
    "countries[\"Austria\"] = {\n",
    "        \"N_population\" : 8.86e6,\n",
    "        \"change_points\" : change_points,\n",
    "}"
   ]
  },
  {
   "cell_type": "markdown",
   "metadata": {
    "papermill": {
     "duration": 0.009774,
     "end_time": "2020-05-22T10:24:48.418246",
     "exception": false,
     "start_time": "2020-05-22T10:24:48.408472",
     "status": "completed"
    },
    "tags": []
   },
   "source": [
    "## Belgium\n",
    "\n",
    "https://www.euractiv.com/section/coronavirus/news/belgium-enters-lockdown-over-coronavirus-crisis-until-5-april/\n",
    "\n",
    "From [Imperial College Report](https://www.imperial.ac.uk/media/imperial-college/medicine/mrc-gida/2020-03-30-COVID19-Report-13.pdf) and [Wikipedia timeline](https://en.wikipedia.org/wiki/COVID-19_pandemic_in_Belgium#Timeline)\n",
    "* __12/3__ Public events banned\n",
    "* __14/3__ School closure and social distancing encouraged\n",
    "* __18/3__ Lockdown ordered\n",
    "* __04/5__ Lockdown relaxed and mandatory masks in public transport"
   ]
  },
  {
   "cell_type": "code",
   "execution_count": 4,
   "metadata": {
    "execution": {
     "iopub.execute_input": "2020-05-22T10:24:48.443416Z",
     "iopub.status.busy": "2020-05-22T10:24:48.442865Z",
     "iopub.status.idle": "2020-05-22T10:24:48.443936Z",
     "shell.execute_reply": "2020-05-22T10:24:48.444332Z"
    },
    "papermill": {
     "duration": 0.016299,
     "end_time": "2020-05-22T10:24:48.444431",
     "exception": false,
     "start_time": "2020-05-22T10:24:48.428132",
     "status": "completed"
    },
    "tags": []
   },
   "outputs": [],
   "source": [
    "prior_date_public_events_banned = datetime.datetime(2020,3,12) #Maybe one cp for this\n",
    "prior_date_social_distancing_encouraged = datetime.datetime(2020,3,14) # and this\n",
    "prior_date_lockdown = datetime.datetime(2020,3,18)\n",
    "prior_date_mask_mandatory_in_public = datetime.datetime(2020,5,4)\n",
    "\n",
    "change_points = [dict(pr_mean_date_transient = prior_date_public_events_banned,\n",
    "                      pr_sigma_date_transient = 3, #lower\n",
    "                      pr_median_lambda = 0.2,\n",
    "                      pr_sigma_lambda = 1),\n",
    "                dict(pr_mean_date_transient = prior_date_lockdown,\n",
    "                      pr_sigma_date_transient = 3, #lower\n",
    "                      pr_median_lambda = 1/8,\n",
    "                      pr_sigma_lambda = 1),\n",
    "                 dict(pr_mean_date_transient = prior_date_mask_mandatory_in_public,\n",
    "                      pr_sigma_date_transient = 6,\n",
    "                      pr_median_lambda = 1/16,\n",
    "                      pr_sigma_lambda = 1)]\n",
    "countries[\"Belgium\"] = {\n",
    "        \"N_population\" : 11.46e6,\n",
    "        \"change_points\" : change_points\n",
    "}"
   ]
  },
  {
   "cell_type": "markdown",
   "metadata": {
    "papermill": {
     "duration": 0.009928,
     "end_time": "2020-05-22T10:24:48.464141",
     "exception": false,
     "start_time": "2020-05-22T10:24:48.454213",
     "status": "completed"
    },
    "tags": []
   },
   "source": [
    "# Czechia\n",
    "https://github.com/Konrad982/covid19_inference/blob/master/scripts/Czech_Republic_JHU.ipynb\n",
    "\n",
    "https://en.wikipedia.org/wiki/COVID-19_pandemic_in_the_Czech_Republic"
   ]
  },
  {
   "cell_type": "code",
   "execution_count": 5,
   "metadata": {
    "execution": {
     "iopub.execute_input": "2020-05-22T10:24:48.489742Z",
     "iopub.status.busy": "2020-05-22T10:24:48.489313Z",
     "iopub.status.idle": "2020-05-22T10:24:48.490932Z",
     "shell.execute_reply": "2020-05-22T10:24:48.490525Z"
    },
    "papermill": {
     "duration": 0.017064,
     "end_time": "2020-05-22T10:24:48.491015",
     "exception": false,
     "start_time": "2020-05-22T10:24:48.473951",
     "status": "completed"
    },
    "tags": []
   },
   "outputs": [],
   "source": [
    "prior_date_quarantine = datetime.datetime(2020,3,7)\n",
    "prior_date_closures =  datetime.datetime(2020,3,13)\n",
    "prior_date_curfew =  datetime.datetime(2020,3,16)\n",
    "prior_date_curfew_loosened =  datetime.datetime(2020,4,24)\n",
    "\n",
    "change_points = [dict(pr_mean_date_transient = prior_date_quarantine,\n",
    "                      pr_sigma_date_transient = 6, \n",
    "                      pr_median_lambda = 0.35,\n",
    "                      pr_sigma_lambda = 1),\n",
    "                dict(pr_mean_date_transient = prior_date_closures,\n",
    "                      pr_sigma_date_transient = 3, #reduced\n",
    "                      pr_median_lambda = 0.3,\n",
    "                      pr_sigma_lambda = 1),\n",
    "                 dict(pr_mean_date_transient = prior_date_curfew,\n",
    "                      pr_sigma_date_transient = 3, #reduced\n",
    "                      pr_median_lambda = 1/16,\n",
    "                      pr_sigma_lambda = 1),\n",
    "                dict(pr_mean_date_transient = prior_date_curfew_loosened,\n",
    "                      pr_sigma_date_transient = 6,\n",
    "                      pr_median_lambda = 1/8,\n",
    "                      pr_sigma_lambda = 1)]\n",
    "\n",
    "countries[\"Czechia\"] = {\n",
    "        \"N_population\" : 10.65e6,\n",
    "        \"change_points\" : change_points\n",
    "}"
   ]
  },
  {
   "cell_type": "markdown",
   "metadata": {
    "papermill": {
     "duration": 0.009782,
     "end_time": "2020-05-22T10:24:48.510764",
     "exception": false,
     "start_time": "2020-05-22T10:24:48.500982",
     "status": "completed"
    },
    "tags": []
   },
   "source": [
    "# Denmark\n",
    "\n",
    "https://en.wikipedia.org/wiki/COVID-19_pandemic_in_Denmark#Timeline\n",
    "\n",
    "https://www.euronews.com/2020/05/08/coronavirus-denmark-and-norway-further-relax-covid-19-restrictions"
   ]
  },
  {
   "cell_type": "code",
   "execution_count": 6,
   "metadata": {
    "execution": {
     "iopub.execute_input": "2020-05-22T10:24:48.531179Z",
     "iopub.status.busy": "2020-05-22T10:24:48.530747Z",
     "iopub.status.idle": "2020-05-22T10:24:48.536757Z",
     "shell.execute_reply": "2020-05-22T10:24:48.536398Z"
    },
    "papermill": {
     "duration": 0.017734,
     "end_time": "2020-05-22T10:24:48.536839",
     "exception": false,
     "start_time": "2020-05-22T10:24:48.519105",
     "status": "completed"
    },
    "tags": []
   },
   "outputs": [],
   "source": [
    "prior_date_big_events_canceled = datetime.datetime(2020, 3, 11)\n",
    "prior_date_lockdown_public_sector = datetime.datetime(2020,3,13)\n",
    "prior_date_schools_closed = datetime.datetime(2020,3,16)\n",
    "prior_date_contact_ban = datetime.datetime(2020,3,18)\n",
    "prior_date_schools_reopen = datetime.datetime(2020,3,11)\n",
    "\n",
    "change_points = [dict(pr_mean_date_transient = prior_date_big_events_canceled,\n",
    "                      pr_sigma_date_transient = 6, \n",
    "                      pr_median_lambda = 0.35,\n",
    "                      pr_sigma_lambda = 1),\n",
    "                dict(pr_mean_date_transient = prior_date_lockdown_public_sector,\n",
    "                      pr_sigma_date_transient = 3,\n",
    "                      pr_median_lambda = 0.3,\n",
    "                      pr_sigma_lambda = 1),\n",
    "                 dict(pr_mean_date_transient = prior_date_schools_closed,\n",
    "                      pr_sigma_date_transient = 3,\n",
    "                      pr_median_lambda = 1/16,\n",
    "                      pr_sigma_lambda = 1),\n",
    "                dict(pr_mean_date_transient = prior_date_contact_ban,\n",
    "                      pr_sigma_date_transient = 3,\n",
    "                      pr_median_lambda = 1/8,\n",
    "                      pr_sigma_lambda = 1),\n",
    "                dict(pr_mean_date_transient = prior_date_schools_reopen,\n",
    "                      pr_sigma_date_transient = 3,\n",
    "                      pr_median_lambda = 1/8,\n",
    "                      pr_sigma_lambda = 1)]\n",
    "\n",
    "countries[\"Denmark\"] = {\n",
    "        \"N_population\" : 5.8e6,\n",
    "        \"change_points\" : change_points\n",
    "}"
   ]
  },
  {
   "cell_type": "markdown",
   "metadata": {
    "papermill": {
     "duration": 0.009985,
     "end_time": "2020-05-22T10:24:48.557117",
     "exception": false,
     "start_time": "2020-05-22T10:24:48.547132",
     "status": "completed"
    },
    "tags": []
   },
   "source": [
    "# France\n",
    "\n",
    "https://github.com/Konrad982/covid19_inference/blob/master/scripts/France_JHU.ipynb\n",
    "\n",
    "https://en.wikipedia.org/wiki/2020_coronavirus_pandemic_in_France"
   ]
  },
  {
   "cell_type": "code",
   "execution_count": 7,
   "metadata": {
    "execution": {
     "iopub.execute_input": "2020-05-22T10:24:48.583677Z",
     "iopub.status.busy": "2020-05-22T10:24:48.583245Z",
     "iopub.status.idle": "2020-05-22T10:24:48.584304Z",
     "shell.execute_reply": "2020-05-22T10:24:48.584696Z"
    },
    "papermill": {
     "duration": 0.017677,
     "end_time": "2020-05-22T10:24:48.584795",
     "exception": false,
     "start_time": "2020-05-22T10:24:48.567118",
     "status": "completed"
    },
    "tags": []
   },
   "outputs": [],
   "source": [
    "prior_date_macron_speech = datetime.datetime(2020,3,12)\n",
    "prior_date_confinement_begin =  datetime.datetime(2020,3,17)\n",
    "prior_date_stronger_measures =  datetime.datetime(2020,3,24)\n",
    "prior_date_before_easter = datetime.datetime(2020,4,10)\n",
    "prior_date_after_easter = datetime.datetime(2020,4,13)\n",
    "\n",
    "change_points = [dict(pr_mean_date_transient = prior_date_macron_speech,\n",
    "                      pr_sigma_date_transient = 4, #reduced due to closeness to the confinement begin\n",
    "                      pr_median_lambda = 0.3,\n",
    "                      pr_sigma_lambda = 1),\n",
    "                dict(pr_mean_date_transient = prior_date_confinement_begin,\n",
    "                      pr_sigma_date_transient = 4, #reduced\n",
    "                      pr_median_lambda = 1/8,\n",
    "                      pr_sigma_lambda = 1),\n",
    "                dict(pr_mean_date_transient = prior_date_stronger_measures,\n",
    "                      pr_sigma_date_transient = 6,\n",
    "                      pr_median_lambda = 1/16,\n",
    "                      pr_sigma_lambda = 1),\n",
    "                dict(pr_mean_date_transient = prior_date_before_easter,\n",
    "                      pr_sigma_date_transient = 3, #reduced\n",
    "                      pr_median_lambda = 1/8,\n",
    "                      pr_sigma_lambda = 1),\n",
    "                dict(pr_mean_date_transient = prior_date_after_easter,\n",
    "                      pr_sigma_date_transient = 3, #reduced\n",
    "                      pr_median_lambda = 1/16,\n",
    "                      pr_sigma_lambda = 1)]\n",
    "\n",
    "countries[\"France\"] = {\n",
    "        \"N_population\" : 67e6,\n",
    "        \"change_points\" : change_points\n",
    "}"
   ]
  },
  {
   "cell_type": "markdown",
   "metadata": {
    "papermill": {
     "duration": 0.009759,
     "end_time": "2020-05-22T10:24:48.604389",
     "exception": false,
     "start_time": "2020-05-22T10:24:48.594630",
     "status": "completed"
    },
    "tags": []
   },
   "source": [
    "# Netherlands\n",
    "\n",
    "https://github.com/Konrad982/covid19_inference/blob/master/scripts/Netherlands_JHU.ipynb\n",
    "\n",
    "https://en.wikipedia.org/wiki/2020_coronavirus_pandemic_in_the_Netherlands"
   ]
  },
  {
   "cell_type": "code",
   "execution_count": 8,
   "metadata": {
    "execution": {
     "iopub.execute_input": "2020-05-22T10:24:48.630902Z",
     "iopub.status.busy": "2020-05-22T10:24:48.630458Z",
     "iopub.status.idle": "2020-05-22T10:24:48.631518Z",
     "shell.execute_reply": "2020-05-22T10:24:48.631911Z"
    },
    "papermill": {
     "duration": 0.017803,
     "end_time": "2020-05-22T10:24:48.632008",
     "exception": false,
     "start_time": "2020-05-22T10:24:48.614205",
     "status": "completed"
    },
    "tags": []
   },
   "outputs": [],
   "source": [
    "prior_date_brabant_closures = datetime.datetime(2020,3,11)\n",
    "prior_date_stricter =  datetime.datetime(2020,3,15)\n",
    "prior_date_social_distancing =  datetime.datetime(2020,3,23)\n",
    "prior_date_easter_begin = datetime.datetime(2020,4,10)\n",
    "prior_date_easter_end = datetime.datetime(2020,4,13)\n",
    "\n",
    "change_points = [dict(pr_mean_date_transient = prior_date_brabant_closures,\n",
    "                      pr_sigma_date_transient = 3, #reduced due to closeness to the next\n",
    "                      pr_median_lambda = 0.3,\n",
    "                      pr_sigma_lambda = 1),\n",
    "                dict(pr_mean_date_transient = prior_date_stricter,\n",
    "                      pr_sigma_date_transient = 3, #reduced\n",
    "                      pr_median_lambda = 0.2,\n",
    "                      pr_sigma_lambda = 1),\n",
    "                dict(pr_mean_date_transient = prior_date_social_distancing,\n",
    "                      pr_sigma_date_transient = 6,\n",
    "                      pr_median_lambda = 1/8,\n",
    "                      pr_sigma_lambda = 1),\n",
    "                dict(pr_mean_date_transient = prior_date_easter_begin,\n",
    "                      pr_sigma_date_transient = 3, #reduced\n",
    "                      pr_median_lambda = 0.1,\n",
    "                      pr_sigma_lambda = 1),\n",
    "                dict(pr_mean_date_transient = prior_date_easter_end,\n",
    "                      pr_sigma_date_transient = 3, #reduced\n",
    "                      pr_median_lambda = 1/8,\n",
    "                      pr_sigma_lambda = 1)]\n",
    "\n",
    "countries[\"Netherlands\"] = {\n",
    "            \"N_population\" : 17.3e6,\n",
    "            \"change_points\" : change_points\n",
    "}"
   ]
  },
  {
   "cell_type": "markdown",
   "metadata": {
    "papermill": {
     "duration": 0.009624,
     "end_time": "2020-05-22T10:24:48.651656",
     "exception": false,
     "start_time": "2020-05-22T10:24:48.642032",
     "status": "completed"
    },
    "tags": []
   },
   "source": [
    "# Poland\n",
    "\n",
    "https://en.wikipedia.org/wiki/COVID-19_pandemic_in_Poland#Timeline"
   ]
  },
  {
   "cell_type": "code",
   "execution_count": 9,
   "metadata": {
    "execution": {
     "iopub.execute_input": "2020-05-22T10:24:48.677706Z",
     "iopub.status.busy": "2020-05-22T10:24:48.677284Z",
     "iopub.status.idle": "2020-05-22T10:24:48.678553Z",
     "shell.execute_reply": "2020-05-22T10:24:48.678880Z"
    },
    "papermill": {
     "duration": 0.017248,
     "end_time": "2020-05-22T10:24:48.678976",
     "exception": false,
     "start_time": "2020-05-22T10:24:48.661728",
     "status": "completed"
    },
    "tags": []
   },
   "outputs": [],
   "source": [
    "prior_date_cancel_all_mass_events = datetime.datetime(2020,3,10)\n",
    "prior_date_schools_closed = datetime.datetime(2020,3,12)\n",
    "prior_date_restriction_on_public_gatherings = datetime.datetime(2020,3,24)\n",
    "prior_date_schools_opened_again = datetime.datetime(2020,4,10)\n",
    "\n",
    "change_points = [dict(pr_mean_date_transient = prior_date_cancel_all_mass_events,\n",
    "                      pr_sigma_date_transient = 3, \n",
    "                      pr_median_lambda = 0.3,\n",
    "                      pr_sigma_lambda = 1),\n",
    "                dict(pr_mean_date_transient = prior_date_schools_closed,\n",
    "                      pr_sigma_date_transient = 3,\n",
    "                      pr_median_lambda = 0.2,\n",
    "                      pr_sigma_lambda = 1),\n",
    "                dict(pr_mean_date_transient = prior_date_restriction_on_public_gatherings,\n",
    "                      pr_sigma_date_transient = 6,\n",
    "                      pr_median_lambda = 1/8,\n",
    "                      pr_sigma_lambda = 1),\n",
    "                dict(pr_mean_date_transient = prior_date_schools_opened_again,\n",
    "                      pr_sigma_date_transient = 3, \n",
    "                      pr_median_lambda = 0.1,\n",
    "                      pr_sigma_lambda = 1)]\n",
    "\n",
    "countries[\"Poland\"] = {\n",
    "        \"N_population\" : 37.97e6,\n",
    "        \"change_points\" : change_points\n",
    "}"
   ]
  },
  {
   "cell_type": "markdown",
   "metadata": {
    "papermill": {
     "duration": 0.009587,
     "end_time": "2020-05-22T10:24:48.698298",
     "exception": false,
     "start_time": "2020-05-22T10:24:48.688711",
     "status": "completed"
    },
    "tags": []
   },
   "source": [
    "# Switzerland\n",
    "\n",
    "https://en.wikipedia.org/wiki/COVID-19_pandemic_in_Switzerland#Timeline"
   ]
  },
  {
   "cell_type": "code",
   "execution_count": 10,
   "metadata": {
    "execution": {
     "iopub.execute_input": "2020-05-22T10:24:48.719499Z",
     "iopub.status.busy": "2020-05-22T10:24:48.719091Z",
     "iopub.status.idle": "2020-05-22T10:24:48.724727Z",
     "shell.execute_reply": "2020-05-22T10:24:48.725076Z"
    },
    "papermill": {
     "duration": 0.017186,
     "end_time": "2020-05-22T10:24:48.725175",
     "exception": false,
     "start_time": "2020-05-22T10:24:48.707989",
     "status": "completed"
    },
    "tags": []
   },
   "outputs": [],
   "source": [
    "prior_date_cancel_all_mass_events = datetime.datetime(2020,2,28)\n",
    "prior_date_close_schools = datetime.datetime(2020,3,13)\n",
    "prior_date_more_public_measures = datetime.datetime(2020,3,16)\n",
    "prior_date_public_gathering_prohibited = datetime.datetime(2020,3,20)\n",
    "prior_date_looseing_mesures_phase_1 = datetime.datetime(2020,4,27)\n",
    "\n",
    "change_points = [dict(pr_mean_date_transient = prior_date_cancel_all_mass_events,\n",
    "                      pr_sigma_date_transient = 3, \n",
    "                      pr_median_lambda = 0.3,\n",
    "                      pr_sigma_lambda = 1),\n",
    "                dict(pr_mean_date_transient = prior_date_close_schools,\n",
    "                      pr_sigma_date_transient = 3,\n",
    "                      pr_median_lambda = 0.2,\n",
    "                      pr_sigma_lambda = 1),\n",
    "                dict(pr_mean_date_transient = prior_date_more_public_measures,\n",
    "                      pr_sigma_date_transient = 3,\n",
    "                      pr_median_lambda = 1/8,\n",
    "                      pr_sigma_lambda = 1),\n",
    "                dict(pr_mean_date_transient = prior_date_looseing_mesures_phase_1,\n",
    "                      pr_sigma_date_transient = 3, \n",
    "                      pr_median_lambda = 0.1,\n",
    "                      pr_sigma_lambda = 1)]\n",
    "\n",
    "countries[\"Switzerland\"] = {\n",
    "            \"N_population\": 8.57e6,\n",
    "            \"change_points\" : change_points\n",
    "}"
   ]
  },
  {
   "cell_type": "markdown",
   "metadata": {
    "papermill": {
     "duration": 0.00958,
     "end_time": "2020-05-22T10:24:48.744440",
     "exception": false,
     "start_time": "2020-05-22T10:24:48.734860",
     "status": "completed"
    },
    "tags": []
   },
   "source": [
    "## Construct new- and total cases"
   ]
  },
  {
   "cell_type": "code",
   "execution_count": 11,
   "metadata": {
    "execution": {
     "iopub.execute_input": "2020-05-22T10:24:48.766269Z",
     "iopub.status.busy": "2020-05-22T10:24:48.765864Z",
     "iopub.status.idle": "2020-05-22T10:24:50.980725Z",
     "shell.execute_reply": "2020-05-22T10:24:50.981080Z"
    },
    "papermill": {
     "duration": 2.226992,
     "end_time": "2020-05-22T10:24:50.981189",
     "exception": false,
     "start_time": "2020-05-22T10:24:48.754197",
     "status": "completed"
    },
    "tags": []
   },
   "outputs": [],
   "source": [
    "from covid19_inference.data_retrieval import JHU"
   ]
  },
  {
   "cell_type": "code",
   "execution_count": 12,
   "metadata": {
    "execution": {
     "iopub.execute_input": "2020-05-22T10:24:51.008299Z",
     "iopub.status.busy": "2020-05-22T10:24:51.007880Z",
     "iopub.status.idle": "2020-05-22T10:24:51.254213Z",
     "shell.execute_reply": "2020-05-22T10:24:51.253819Z"
    },
    "papermill": {
     "duration": 0.260256,
     "end_time": "2020-05-22T10:24:51.254298",
     "exception": false,
     "start_time": "2020-05-22T10:24:50.994042",
     "status": "completed"
    },
    "tags": []
   },
   "outputs": [
    {
     "name": "stderr",
     "output_type": "stream",
     "text": [
      "INFO     [covid19_inference.data_retrieval._JHU] Successfully loaded data from local\n"
     ]
    }
   ],
   "source": [
    "begin = datetime.datetime(2020,2,1)\n",
    "end = datetime.datetime.now()\n",
    "jhu = JHU(True)\n",
    "for key in countries:\n",
    "    countries[key][\"new_cases\"] = jhu.get_new(\n",
    "        value=\"confirmed\",\n",
    "        country=key,\n",
    "        data_begin=begin,\n",
    "        data_end = end)\n",
    "    \n",
    "    countries[key][\"total_cases\"] = jhu.get_total(\n",
    "        value=\"confirmed\",\n",
    "        country=key,\n",
    "        data_begin=begin,\n",
    "        data_end=end)"
   ]
  },
  {
   "cell_type": "code",
   "execution_count": 13,
   "metadata": {
    "execution": {
     "iopub.execute_input": "2020-05-22T10:24:51.281615Z",
     "iopub.status.busy": "2020-05-22T10:24:51.281065Z",
     "iopub.status.idle": "2020-05-22T10:24:51.283008Z",
     "shell.execute_reply": "2020-05-22T10:24:51.282532Z"
    },
    "papermill": {
     "duration": 0.016155,
     "end_time": "2020-05-22T10:24:51.283107",
     "exception": false,
     "start_time": "2020-05-22T10:24:51.266952",
     "status": "completed"
    },
    "tags": []
   },
   "outputs": [],
   "source": [
    "countries[\"data_begin\"] = begin\n",
    "countries[\"data_end\"] = end"
   ]
  }
 ],
 "metadata": {
  "kernelspec": {
   "display_name": "Python 3",
   "language": "python",
   "name": "python3"
  },
  "language_info": {
   "codemirror_mode": {
    "name": "ipython",
    "version": 3
   },
   "file_extension": ".py",
   "mimetype": "text/x-python",
   "name": "python",
   "nbconvert_exporter": "python",
   "pygments_lexer": "ipython3",
   "version": "3.7.7"
  },
  "papermill": {
   "duration": 3.792831,
   "end_time": "2020-05-22T10:24:51.425717",
   "environment_variables": {},
   "exception": null,
   "input_path": "0_countries_parameters.ipynb",
   "output_path": "0_countries_parameters.ipynb",
   "parameters": {},
   "start_time": "2020-05-22T10:24:47.632886",
   "version": "2.1.1"
  }
 },
 "nbformat": 4,
 "nbformat_minor": 1
}
