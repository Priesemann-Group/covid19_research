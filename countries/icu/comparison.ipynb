{
 "cells": [
  {
   "cell_type": "code",
   "execution_count": 2,
   "metadata": {},
   "outputs": [],
   "source": [
    "import sys\n",
    "#sys.path.append('../../covid19_inference-model_cleanup')\n",
    "sys.path.append('../../../covid19_inference')\n",
    "import covid19_inference as cov19\n",
    "import pandas as pd\n",
    "import datetime\n",
    "import numpy as np\n",
    "import matplotlib.pyplot as plt\n",
    "import requests\n",
    "import lxml.html as lh\n",
    "import requests"
   ]
  },
  {
   "cell_type": "markdown",
   "metadata": {},
   "source": [
    "Plotting icu cases for different countries, i.e. Belgium, Greece, Italy, Netherlands, Portugal, Spain, Slovenia, Sweden, Switzerland.\n"
   ]
  },
  {
   "cell_type": "markdown",
   "metadata": {},
   "source": [
    "## Create big icu dict with every country"
   ]
  },
  {
   "cell_type": "code",
   "execution_count": 3,
   "metadata": {},
   "outputs": [],
   "source": [
    "icu = dict()\n",
    "\n",
    "def create_df(date,y):\n",
    "    df = pd.DataFrame()\n",
    "    df[\"date\"] = date\n",
    "    df[\"cases\"] = y\n",
    "    df.set_index(\"date\")\n",
    "    return df"
   ]
  },
  {
   "cell_type": "markdown",
   "metadata": {},
   "source": [
    "### Austria"
   ]
  },
  {
   "cell_type": "markdown",
   "metadata": {},
   "source": [
    "only limited dates available..."
   ]
  },
  {
   "cell_type": "markdown",
   "metadata": {},
   "source": [
    "### Belgium"
   ]
  },
  {
   "cell_type": "code",
   "execution_count": 4,
   "metadata": {},
   "outputs": [],
   "source": [
    "temp = pd.read_csv(\"https://epistat.sciensano.be/Data/COVID19BE_HOSP.csv\")\n",
    "temp[\"DATE\"] = pd.to_datetime(temp[\"DATE\"])\n",
    "temp = temp.rename(columns={\"DATE\": \"date\"})\n",
    "temp = temp.set_index(\"date\") "
   ]
  },
  {
   "cell_type": "code",
   "execution_count": 5,
   "metadata": {},
   "outputs": [],
   "source": [
    "in_icu = [(date, temp.loc[date].TOTAL_IN_ICU.sum()) for date in pd.date_range(temp.index[0],temp.index[-1])]\n",
    "in_icu = np.array(in_icu)\n",
    "icu[\"Belgium\"] = create_df(in_icu[:,0],in_icu[:,1])"
   ]
  },
  {
   "cell_type": "markdown",
   "metadata": {},
   "source": [
    "### Greece"
   ]
  },
  {
   "cell_type": "code",
   "execution_count": 24,
   "metadata": {},
   "outputs": [
    {
     "data": {
      "text/plain": [
       "' Alternative where we fill the missing dates with NaN\\nurl_start = \"https://raw.githubusercontent.com/kargig/covid19-gr-json/master/covid-19-gr-\"\\nurl_end = \".json\"\\nstart_date = datetime.datetime(2020,3,20)\\nend_date = datetime.date.today() - datetime.timedelta(7)\\ndates = pd.date_range(start_date, end_date)\\nicu_cases = []\\nfor date in dates:\\n    datestr = date.strftime(\"%Y-%m-%d\")\\n    url = url_start + datestr + url_end\\n    try:\\n        data = requests.get(url).json()\\n        data_exists = True\\n    except:\\n        data_exists = False\\n    if data_exists:\\n        icu_cases.append(int(data[\"in_IC\"]))\\n    else:\\n        icu_cases.append(np.nan)\\nicu[\"Greece\"] = create_df(dates, np.array(icu_cases))\\n#icu[\"Greece\"].head(50) \\n'"
      ]
     },
     "execution_count": 24,
     "metadata": {},
     "output_type": "execute_result"
    }
   ],
   "source": [
    "\"\"\" Alternative where we fill the missing dates with NaN\n",
    "url_start = \"https://raw.githubusercontent.com/kargig/covid19-gr-json/master/covid-19-gr-\"\n",
    "url_end = \".json\"\n",
    "start_date = datetime.datetime(2020,3,20)\n",
    "end_date = datetime.date.today() - datetime.timedelta(7)\n",
    "dates = pd.date_range(start_date, end_date)\n",
    "icu_cases = []\n",
    "for date in dates:\n",
    "    datestr = date.strftime(\"%Y-%m-%d\")\n",
    "    url = url_start + datestr + url_end\n",
    "    try:\n",
    "        data = requests.get(url).json()\n",
    "        data_exists = True\n",
    "    except:\n",
    "        data_exists = False\n",
    "    if data_exists:\n",
    "        icu_cases.append(int(data[\"in_IC\"]))\n",
    "    else:\n",
    "        icu_cases.append(np.nan)\n",
    "icu[\"Greece\"] = create_df(dates, np.array(icu_cases))\n",
    "#icu[\"Greece\"].head(50) \n",
    "\"\"\""
   ]
  },
  {
   "cell_type": "code",
   "execution_count": 7,
   "metadata": {},
   "outputs": [],
   "source": [
    "url_start = \"https://raw.githubusercontent.com/kargig/covid19-gr-json/master/covid-19-gr-\"\n",
    "url_end = \".json\"\n",
    "start_date = datetime.datetime(2020,3,20)\n",
    "end_date = datetime.date.today() - datetime.timedelta(7)\n",
    "dates = pd.date_range(start_date, end_date)\n",
    "icu_cases = []\n",
    "icu_dates = []\n",
    "for date in dates:\n",
    "    datestr = date.strftime(\"%Y-%m-%d\")\n",
    "    url = url_start + datestr + url_end\n",
    "    try:\n",
    "        data = requests.get(url).json()\n",
    "        data_exists = True\n",
    "    except:\n",
    "        data_exists = False\n",
    "    if data_exists:\n",
    "        icu_cases.append(int(data[\"in_IC\"]))\n",
    "        icu_dates.append(date)\n",
    "icu[\"Greece\"] = create_df(icu_dates, np.array(icu_cases))"
   ]
  },
  {
   "cell_type": "markdown",
   "metadata": {},
   "source": [
    "### Italy"
   ]
  },
  {
   "cell_type": "code",
   "execution_count": 26,
   "metadata": {},
   "outputs": [],
   "source": [
    "temp = pd.read_csv(\"https://raw.githubusercontent.com/pcm-dpc/COVID-19/master/dati-andamento-nazionale/dpc-covid19-ita-andamento-nazionale.csv\")\n",
    "temp[\"data\"] = pd.to_datetime(temp[\"data\"])\n",
    "temp = temp.rename(columns={\"terapia_intensiva\": \"icu\",\"data\":\"date\"})"
   ]
  },
  {
   "cell_type": "code",
   "execution_count": 27,
   "metadata": {},
   "outputs": [],
   "source": [
    "icu[\"Italy\"] = create_df(temp[\"date\"],temp.icu)\n",
    "#icu[\"Italy\"].head()"
   ]
  },
  {
   "cell_type": "markdown",
   "metadata": {},
   "source": [
    "### Netherlands"
   ]
  },
  {
   "cell_type": "code",
   "execution_count": 28,
   "metadata": {},
   "outputs": [],
   "source": [
    "temp = pd.read_csv(\"https://opendata.arcgis.com/datasets/c121a3cd3ca34e7b8050513307d41b93_0.csv\")\n",
    "temp[\"date\"] = pd.to_datetime(temp[\"date\"])"
   ]
  },
  {
   "cell_type": "code",
   "execution_count": 29,
   "metadata": {},
   "outputs": [],
   "source": [
    "icu[\"Netherlands\"] = create_df(temp[\"date\"],temp.intakeCount)\n",
    "#icu[\"Netherlands\"].head()"
   ]
  },
  {
   "cell_type": "markdown",
   "metadata": {},
   "source": [
    "### Portugal\n",
    "Have to scrap from wikipedia"
   ]
  },
  {
   "cell_type": "code",
   "execution_count": 30,
   "metadata": {},
   "outputs": [],
   "source": [
    "url = \"https://en.wikipedia.org/wiki/Template:COVID-19_pandemic_data/Portugal_medical_cases\"\n",
    "#Create a handle, page, to handle the contents of the website\n",
    "page = requests.get(url)\n",
    "#Store the contents of the website under doc\n",
    "doc = lh.fromstring(page.content)\n",
    "#Parse data that are stored between <tr>..</tr> of HTML\n",
    "tr_elements = doc.xpath('//tr')\n",
    "\n",
    "#Check the length of rows\n",
    "#print([len(T) for T in tr_elements[12:]])\n",
    "#Remove rows that are not relevant data\n",
    "tr_elements = tr_elements[2:-7]\n",
    "\n",
    "#Columns of interest\n",
    "date_column = 0\n",
    "ICU_column = 12\n",
    "column_indices = [date_column, ICU_column]\n",
    "\n",
    "#Prepare dfs\n",
    "relevant_data = [(\"date\", []), (\"cases\", [])]\n",
    "\n",
    "#Get relevant data out of all data\n",
    "for j in range(len(tr_elements)):\n",
    "    #T is our j'th row\n",
    "    T = tr_elements[j]\n",
    "    #i is the index of relevant_data\n",
    "    i = 0\n",
    "    #Iterate through each relevant element of the row\n",
    "    for index in column_indices:\n",
    "        t = T[index]\n",
    "        data=t.text_content() \n",
    "        #Convert date to usable string\n",
    "        if index == date_column:\n",
    "            data = str(data)\n",
    "            data = data[:-1]\n",
    "        #Convert ICU cases to integers\n",
    "        elif index == ICU_column:\n",
    "            data = int(data)\n",
    "        #Append the data to the data list of the i'th column\n",
    "        relevant_data[i][1].append(data)\n",
    "        #Increment i for the next entry of relevant_data\n",
    "        i += 1\n",
    "\n",
    "#Convert to dataframe\n",
    "Dict = {title:column for (title,column) in relevant_data}\n",
    "df=pd.DataFrame(Dict)\n",
    "df[\"date\"] = pd.to_datetime(df[\"date\"])\n",
    "df.set_index(\"date\")\n",
    "icu[\"Portugal\"] = df\n",
    "#icu[\"Portugal\"].head()"
   ]
  },
  {
   "cell_type": "markdown",
   "metadata": {},
   "source": [
    "### Spain"
   ]
  },
  {
   "cell_type": "code",
   "execution_count": 31,
   "metadata": {},
   "outputs": [],
   "source": [
    "temp = pd.read_csv('https://covid19.isciii.es/resources/serie_historica_acumulados.csv', encoding='unicode_escape', skipfooter=9, engine='python')\n",
    "#temp.head()"
   ]
  },
  {
   "cell_type": "code",
   "execution_count": 32,
   "metadata": {},
   "outputs": [],
   "source": [
    "temp[\"FECHA\"] = pd.to_datetime(temp[\"FECHA\"], format=\"%d/%m/%Y\")\n",
    "temp = temp.rename(columns={\"FECHA\": \"date\"})\n",
    "temp = temp.set_index(\"date\")"
   ]
  },
  {
   "cell_type": "markdown",
   "metadata": {},
   "source": [
    "Problem with ICU numbers: We have cumulative cases and not total on that day..."
   ]
  },
  {
   "cell_type": "code",
   "execution_count": 33,
   "metadata": {},
   "outputs": [],
   "source": [
    "#Sum up ICU cases of the different municipalities to one number per date\n",
    "cumulative_in_icu = [(date, temp.loc[date].UCI.sum()) for date in pd.date_range(temp.index[0],temp.index[-1])]\n",
    "\n",
    "#Convert from cumulative ICU cases to daily, new ICU cases\n",
    "in_icu = [cumulative_in_icu[0]]\n",
    "for i in range(len(cumulative_in_icu)-1):\n",
    "    former_entry = cumulative_in_icu[i]\n",
    "    new_entry = cumulative_in_icu[i+1]\n",
    "    new_cases = new_entry[1] - former_entry[1]\n",
    "    in_icu.append((new_entry[0], new_cases))\n",
    "    \n",
    "in_icu = np.array(in_icu)\n",
    "icu[\"Spain\"] = create_df(in_icu[:,0],in_icu[:,1])\n",
    "#icu[\"Spain\"].head(100)"
   ]
  },
  {
   "cell_type": "markdown",
   "metadata": {},
   "source": [
    "### Slovenia"
   ]
  },
  {
   "cell_type": "code",
   "execution_count": 34,
   "metadata": {},
   "outputs": [],
   "source": [
    "url = \"https://www.gov.si/assets/vlada/Koronavirus-podatki/COVID-19-vsi-podatki.xlsx\"\n",
    "temp = pd.read_excel(url)\n",
    "temp[\"Datum\"] = pd.to_datetime(temp[\"Datum\"])\n",
    "temp = temp.rename(columns={\"Datum\": \"date\", \"Skupno število hospitaliziranih oseb na posamezni dan\": \"icu\"})"
   ]
  },
  {
   "cell_type": "code",
   "execution_count": 35,
   "metadata": {},
   "outputs": [],
   "source": [
    "icu[\"Slovenia\"] = create_df(temp.date, temp.icu)\n",
    "#icu[\"Slovenia\"].head()"
   ]
  },
  {
   "cell_type": "markdown",
   "metadata": {},
   "source": [
    "### Sweden"
   ]
  },
  {
   "cell_type": "code",
   "execution_count": 36,
   "metadata": {},
   "outputs": [],
   "source": [
    "url = \"https://www.arcgis.com/sharing/rest/content/items/b5e7488e117749c19881cce45db13f7e/data\"\n",
    "temp = pd.read_excel(url, sheet_name = 2)\n",
    "temp = temp.rename(columns={\"Datum_vårdstart\": \"date\", \"Antal_intensivvårdade\": \"icu\"})\n",
    "temp[\"date\"] = pd.to_datetime(temp[\"date\"])\n",
    "icu[\"Sweden\"] = create_df(temp.date, temp.icu)\n",
    "#icu[\"Sweden\"].head()"
   ]
  },
  {
   "cell_type": "markdown",
   "metadata": {},
   "source": [
    "### Switzerland"
   ]
  },
  {
   "cell_type": "code",
   "execution_count": 37,
   "metadata": {},
   "outputs": [],
   "source": [
    "url = \"https://www4.ti.ch/fileadmin/DSS/DSP/UMC/malattie_infettive/Coronavirus/dati/COVID19_Dati_TI_per_github.xlsx\"\n",
    "temp = pd.read_excel(url)\n",
    "temp[\"date\"] = pd.to_datetime(temp[\"date\"])\n",
    "icu[\"Switzerland\"] = create_df(temp.date, temp.current_icu)\n",
    "#icu[\"Switzerland\"].head()"
   ]
  },
  {
   "cell_type": "markdown",
   "metadata": {},
   "source": [
    "# TODO:\n",
    "plot against total number of cases, i.e. fraction or with different scale\n",
    "fix greece icu cases to be total and not \"in_ic\" (if possible)"
   ]
  },
  {
   "cell_type": "markdown",
   "metadata": {},
   "source": [
    "## Plot"
   ]
  },
  {
   "cell_type": "code",
   "execution_count": 12,
   "metadata": {},
   "outputs": [
    {
     "name": "stdout",
     "output_type": "stream",
     "text": [
      "Belgium\n",
      "Greece\n"
     ]
    },
    {
     "data": {
      "image/png": "[encoded data removed]",
      "text/plain": [
       "<Figure size 432x288 with 1 Axes>"
      ]
     },
     "metadata": {
      "needs_background": "light"
     },
     "output_type": "display_data"
    }
   ],
   "source": [
    "for key in icu:\n",
    "    print(key)\n",
    "    ax = cov19.plot._timeseries(icu[key][\"date\"],icu[key][\"cases\"],what=\"model\")\n",
    "    #ax = plt.plot(icu[key][\"date\"], icu[key][\"cases\"])\n",
    "    cov19.plot._format_date_xticks(ax)\n",
    "    ax.set_title(key)"
   ]
  },
  {
   "cell_type": "code",
   "execution_count": null,
   "metadata": {},
   "outputs": [],
   "source": []
  }
 ],
 "metadata": {
  "kernelspec": {
   "display_name": "Python 3",
   "language": "python",
   "name": "python3"
  },
  "language_info": {
   "codemirror_mode": {
    "name": "ipython",
    "version": 3
   },
   "file_extension": ".py",
   "mimetype": "text/x-python",
   "name": "python",
   "nbconvert_exporter": "python",
   "pygments_lexer": "ipython3",
   "version": "3.7.6"
  }
 },
 "nbformat": 4,
 "nbformat_minor": 4
}
