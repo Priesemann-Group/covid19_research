{
 "cells": [
  {
   "cell_type": "code",
   "execution_count": 10,
   "metadata": {},
   "outputs": [],
   "source": [
    "import covid19_inference as cov19\n",
    "import pymc3 as pm\n",
    "import numpy as np\n",
    "import pickle"
   ]
  },
  {
   "cell_type": "markdown",
   "metadata": {},
   "source": [
    "Get parameters for different countries as `countries` dict."
   ]
  },
  {
   "cell_type": "code",
   "execution_count": 11,
   "metadata": {},
   "outputs": [
    {
     "name": "stderr",
     "output_type": "stream",
     "text": [
      "INFO     [covid19_inference.data_retrieval._JHU] Successfully loaded data from local\n"
     ]
    }
   ],
   "source": [
    "%run change_points.ipynb"
   ]
  },
  {
   "cell_type": "markdown",
   "metadata": {},
   "source": [
    "## Model\n",
    "### Create model for Austria"
   ]
  },
  {
   "cell_type": "code",
   "execution_count": 12,
   "metadata": {
    "scrolled": false
   },
   "outputs": [
    {
     "name": "stderr",
     "output_type": "stream",
     "text": [
      "INFO     [covid19_inference.model.spreading_rate] Lambda_t with sigmoids\n",
      "INFO     [covid19_inference.model.model] pr_median_transient_len was set to default value 4\n",
      "INFO     [covid19_inference.model.model] pr_sigma_transient_len was set to default value 0.5\n",
      "INFO     [covid19_inference.model.model] relative_to_previous was set to default value False\n",
      "INFO     [covid19_inference.model.model] pr_factor_to_previous was set to default value 1\n",
      "INFO     [covid19_inference.model.model] pr_median_transient_len was set to default value 4\n",
      "INFO     [covid19_inference.model.model] pr_sigma_transient_len was set to default value 0.5\n",
      "INFO     [covid19_inference.model.model] relative_to_previous was set to default value False\n",
      "INFO     [covid19_inference.model.model] pr_factor_to_previous was set to default value 1\n",
      "INFO     [covid19_inference.model.model] pr_median_transient_len was set to default value 4\n",
      "INFO     [covid19_inference.model.model] pr_sigma_transient_len was set to default value 0.5\n",
      "INFO     [covid19_inference.model.model] relative_to_previous was set to default value False\n",
      "INFO     [covid19_inference.model.model] pr_factor_to_previous was set to default value 1\n",
      "INFO     [covid19_inference.model.model] pr_median_transient_len was set to default value 4\n",
      "INFO     [covid19_inference.model.model] pr_sigma_transient_len was set to default value 0.5\n",
      "INFO     [covid19_inference.model.model] relative_to_previous was set to default value False\n",
      "INFO     [covid19_inference.model.model] pr_factor_to_previous was set to default value 1\n",
      "INFO     [covid19_inference.model.model] pr_median_transient_len was set to default value 4\n",
      "INFO     [covid19_inference.model.model] pr_sigma_transient_len was set to default value 0.5\n",
      "INFO     [covid19_inference.model.model] relative_to_previous was set to default value False\n",
      "INFO     [covid19_inference.model.model] pr_factor_to_previous was set to default value 1\n",
      "INFO     [covid19_inference.model.model] pr_median_transient_len was set to default value 4\n",
      "INFO     [covid19_inference.model.model] pr_sigma_transient_len was set to default value 0.5\n",
      "INFO     [covid19_inference.model.model] relative_to_previous was set to default value False\n",
      "INFO     [covid19_inference.model.model] pr_factor_to_previous was set to default value 1\n",
      "INFO     [covid19_inference.model.compartmental_models] Uncorrelated prior_I\n",
      "INFO     [covid19_inference.model.compartmental_models] SIR\n",
      "INFO     [covid19_inference.model.delay] Delaying cases\n",
      "INFO     [covid19_inference.model.week_modulation] Week modulation\n"
     ]
    }
   ],
   "source": [
    "key = \"Austria\"\n",
    "diff_data_sim = 16\n",
    "num_days_forecast = 10\n",
    "\n",
    "#Construct model parameters\n",
    "params_model = dict(\n",
    "    new_cases_obs = countries[key][\"new_cases\"],\n",
    "    data_begin    = countries[\"data_begin\"],\n",
    "    fcast_len     = num_days_forecast,\n",
    "    diff_data_sim = diff_data_sim,\n",
    "    N_population  = countries[key][\"N_population\"])\n",
    "\n",
    "\n",
    "with cov19.Cov19Model(**params_model) as this_model:\n",
    "    lambda_t_log = cov19.model.lambda_t_with_sigmoids(change_points_list = countries[key][\"change_points\"],\n",
    "                                                pr_median_lambda_0 = 0.4) #TODO add to countries dict\n",
    "        \n",
    "    # set prior distribution for the recovery rate\n",
    "    mu = pm.Lognormal(name=\"mu\", mu=np.log(1/8), sigma=0.2)\n",
    "    pr_median_delay = 10\n",
    "\n",
    "    # This builds a decorrelated prior for I_begin for faster inference. \n",
    "    # It is not necessary to use it, one can simply remove it and use the default argument \n",
    "    # for pr_I_begin in cov19.SIR\n",
    "    prior_I = cov19.model.uncorrelated_prior_I(lambda_t_log, mu, pr_median_delay = pr_median_delay)\n",
    "\n",
    "    # Use lambda_t_log and mu to run the SIR model\n",
    "    new_I_t = cov19.model.SIR(lambda_t_log, mu, pr_I_begin = prior_I)\n",
    "    \n",
    "    # Delay the cases by a lognormal reporting delay\n",
    "    new_cases_inferred_raw = cov19.model.delay_cases(new_I_t,\n",
    "                                               pr_mean_of_median=pr_median_delay, \n",
    "                                               pr_median_of_width=0.3)\n",
    "    \n",
    "    # Modulate the inferred cases by a abs(sin(x)) function, to account for weekend effects\n",
    "    new_cases_inferred = cov19.model.week_modulation(new_cases_inferred_raw)\n",
    "    \n",
    "    # Define the likelihood, uses the new_cases_obs set as model parameter\n",
    "    cov19.model.student_t_likelihood(new_cases_inferred)"
   ]
  },
  {
   "cell_type": "markdown",
   "metadata": {},
   "source": [
    "### MCMC sampling"
   ]
  },
  {
   "cell_type": "code",
   "execution_count": 13,
   "metadata": {
    "scrolled": true
   },
   "outputs": [
    {
     "name": "stderr",
     "output_type": "stream",
     "text": [
      "INFO     [pymc3] Auto-assigning NUTS sampler...\n",
      "INFO     [pymc3] Initializing NUTS using advi+adapt_diag...\n",
      "WARNING  [theano.tensor.blas] We did not find a dynamic library in the library_dir of the library we use for blas. If you use ATLAS, make sure to compile it with dynamics library.\n",
      "Average Loss = 761.26:  11%|█         | 21799/200000 [01:19<10:46, 275.59it/s]\n",
      "INFO     [pymc3.variational.inference] Convergence achieved at 21800\n",
      "INFO     [pymc3.variational.inference] Interrupted at 21,799 [10%]: Average Loss = 775.64\n",
      "INFO     [pymc3] Multiprocess sampling (2 chains in 4 jobs)\n",
      "INFO     [pymc3] NUTS: [sigma_obs, offset_modulation_rad, weekend_factor_log, delay_log, I_begin_ratio_log, mu, transient_len_6_log_, transient_len_5_log_, transient_len_4_log_, transient_len_3_log_, transient_len_2_log_, transient_len_1_log_, transient_day_6, transient_day_5, transient_day_4, transient_day_3, transient_day_2, transient_day_1, lambda_6_log_, lambda_5_log_, lambda_4_log_, lambda_3_log_, lambda_2_log_, lambda_1_log_, lambda_0_log_]\n",
      "Sampling 2 chains, 0 divergences: 100%|██████████| 4000/4000 [2:02:09<00:00,  1.83s/draws]  \n",
      "WARNING  [pymc3] The chain reached the maximum tree depth. Increase max_treedepth, increase target_accept or reparameterize.\n",
      "WARNING  [pymc3] The acceptance probability does not match the target. It is 0.6901481474381038, but should be close to 0.8. Try to increase the number of tuning steps.\n",
      "WARNING  [pymc3] The chain reached the maximum tree depth. Increase max_treedepth, increase target_accept or reparameterize.\n",
      "ERROR    [pymc3] The rhat statistic is larger than 1.4 for some parameters. The sampler did not converge.\n",
      "ERROR    [pymc3] The estimated number of effective samples is smaller than 200 for some parameters.\n"
     ]
    },
    {
     "ename": "FileNotFoundError",
     "evalue": "[Errno 2] No such file or directory: './data/austria.pickled'",
     "output_type": "error",
     "traceback": [
      "\u001b[0;31m---------------------------------------------------------------------------\u001b[0m",
      "\u001b[0;31mFileNotFoundError\u001b[0m                         Traceback (most recent call last)",
      "\u001b[0;32m<ipython-input-13-18b90479d205>\u001b[0m in \u001b[0;36m<module>\u001b[0;34m\u001b[0m\n\u001b[1;32m      1\u001b[0m \u001b[0mtrace\u001b[0m \u001b[0;34m=\u001b[0m \u001b[0mpm\u001b[0m\u001b[0;34m.\u001b[0m\u001b[0msample\u001b[0m\u001b[0;34m(\u001b[0m\u001b[0mmodel\u001b[0m\u001b[0;34m=\u001b[0m\u001b[0mthis_model\u001b[0m\u001b[0;34m,\u001b[0m \u001b[0mtune\u001b[0m\u001b[0;34m=\u001b[0m\u001b[0;36m1000\u001b[0m\u001b[0;34m,\u001b[0m \u001b[0mdraws\u001b[0m\u001b[0;34m=\u001b[0m\u001b[0;36m1000\u001b[0m\u001b[0;34m,\u001b[0m \u001b[0minit\u001b[0m\u001b[0;34m=\u001b[0m\u001b[0;34m'advi+adapt_diag'\u001b[0m\u001b[0;34m,\u001b[0m\u001b[0mchains\u001b[0m\u001b[0;34m=\u001b[0m\u001b[0;36m2\u001b[0m\u001b[0;34m)\u001b[0m\u001b[0;34m\u001b[0m\u001b[0;34m\u001b[0m\u001b[0m\n\u001b[0;32m----> 2\u001b[0;31m \u001b[0mpickle\u001b[0m\u001b[0;34m.\u001b[0m\u001b[0mdump\u001b[0m\u001b[0;34m(\u001b[0m\u001b[0;34m[\u001b[0m\u001b[0mthis_model\u001b[0m\u001b[0;34m,\u001b[0m\u001b[0mtrace\u001b[0m\u001b[0;34m]\u001b[0m\u001b[0;34m,\u001b[0m\u001b[0mopen\u001b[0m\u001b[0;34m(\u001b[0m\u001b[0;34m\"./data/austria.pickled\"\u001b[0m\u001b[0;34m,\u001b[0m\u001b[0;34m\"wb\"\u001b[0m\u001b[0;34m)\u001b[0m\u001b[0;34m)\u001b[0m\u001b[0;34m\u001b[0m\u001b[0;34m\u001b[0m\u001b[0m\n\u001b[0m",
      "\u001b[0;31mFileNotFoundError\u001b[0m: [Errno 2] No such file or directory: './data/austria.pickled'"
     ]
    }
   ],
   "source": [
    "trace = pm.sample(model=this_model, tune=1000, draws=1000, init='advi+adapt_diag',chains=2)"
   ]
  },
  {
   "cell_type": "markdown",
   "metadata": {},
   "source": [
    "## Plotting\n",
    "### English"
   ]
  },
  {
   "cell_type": "code",
   "execution_count": 15,
   "metadata": {},
   "outputs": [
    {
     "ename": "AssertionError",
     "evalue": "var should be in trace.varnames",
     "output_type": "error",
     "traceback": [
      "\u001b[0;31m---------------------------------------------------------------------------\u001b[0m",
      "\u001b[0;31mAssertionError\u001b[0m                            Traceback (most recent call last)",
      "\u001b[0;32m<ipython-input-15-f4d5717aae28>\u001b[0m in \u001b[0;36m<module>\u001b[0;34m\u001b[0m\n\u001b[1;32m      5\u001b[0m     \u001b[0mthis_model\u001b[0m\u001b[0;34m,\u001b[0m\u001b[0;34m\u001b[0m\u001b[0;34m\u001b[0m\u001b[0m\n\u001b[1;32m      6\u001b[0m     \u001b[0mtrace\u001b[0m\u001b[0;34m,\u001b[0m\u001b[0;34m\u001b[0m\u001b[0;34m\u001b[0m\u001b[0m\n\u001b[0;32m----> 7\u001b[0;31m     offset = countries[key][\"total_cases\"][0])\n\u001b[0m",
      "\u001b[0;32m~/anaconda3/lib/python3.7/site-packages/covid19_inference/plot.py\u001b[0m in \u001b[0;36mtimeseries_overview\u001b[0;34m(model, trace, start, end, region, color, save_to, offset, annotate_constrained, annotate_watermark, axes, forecast_label, forecast_heading, add_more_later)\u001b[0m\n\u001b[1;32m    214\u001b[0m \u001b[0;34m\u001b[0m\u001b[0m\n\u001b[1;32m    215\u001b[0m     y_past, x_past = _get_array_from_trace_via_date(\n\u001b[0;32m--> 216\u001b[0;31m         \u001b[0mmodel\u001b[0m\u001b[0;34m,\u001b[0m \u001b[0mtrace\u001b[0m\u001b[0;34m,\u001b[0m \u001b[0;34m\"new_cases\"\u001b[0m\u001b[0;34m,\u001b[0m \u001b[0mmodel\u001b[0m\u001b[0;34m.\u001b[0m\u001b[0mdata_begin\u001b[0m\u001b[0;34m,\u001b[0m \u001b[0mmodel\u001b[0m\u001b[0;34m.\u001b[0m\u001b[0mdata_end\u001b[0m\u001b[0;34m\u001b[0m\u001b[0;34m\u001b[0m\u001b[0m\n\u001b[0m\u001b[1;32m    217\u001b[0m     )\n\u001b[1;32m    218\u001b[0m     \u001b[0my_past\u001b[0m \u001b[0;34m=\u001b[0m \u001b[0my_past\u001b[0m\u001b[0;34m[\u001b[0m\u001b[0;34m:\u001b[0m\u001b[0;34m,\u001b[0m \u001b[0;34m:\u001b[0m\u001b[0;34m,\u001b[0m \u001b[0mregion\u001b[0m\u001b[0;34m]\u001b[0m\u001b[0;34m\u001b[0m\u001b[0;34m\u001b[0m\u001b[0m\n",
      "\u001b[0;32m~/anaconda3/lib/python3.7/site-packages/covid19_inference/plot.py\u001b[0m in \u001b[0;36m_get_array_from_trace_via_date\u001b[0;34m(model, trace, var, start, end, dates)\u001b[0m\n\u001b[1;32m    617\u001b[0m     \u001b[0mindices\u001b[0m \u001b[0;34m=\u001b[0m \u001b[0;34m(\u001b[0m\u001b[0mdates\u001b[0m \u001b[0;34m-\u001b[0m \u001b[0mref\u001b[0m\u001b[0;34m)\u001b[0m\u001b[0;34m.\u001b[0m\u001b[0mdays\u001b[0m\u001b[0;34m\u001b[0m\u001b[0;34m\u001b[0m\u001b[0m\n\u001b[1;32m    618\u001b[0m \u001b[0;34m\u001b[0m\u001b[0m\n\u001b[0;32m--> 619\u001b[0;31m     \u001b[0;32massert\u001b[0m \u001b[0mvar\u001b[0m \u001b[0;32min\u001b[0m \u001b[0mtrace\u001b[0m\u001b[0;34m.\u001b[0m\u001b[0mvarnames\u001b[0m\u001b[0;34m,\u001b[0m \u001b[0;34m\"var should be in trace.varnames\"\u001b[0m\u001b[0;34m\u001b[0m\u001b[0;34m\u001b[0m\u001b[0m\n\u001b[0m\u001b[1;32m    620\u001b[0m     assert np.all(indices >= 0), (\n\u001b[1;32m    621\u001b[0m         \u001b[0;34m\"all dates should be after the model.sim_begin \"\u001b[0m\u001b[0;34m\u001b[0m\u001b[0;34m\u001b[0m\u001b[0m\n",
      "\u001b[0;31mAssertionError\u001b[0m: var should be in trace.varnames"
     ]
    },
    {
     "data": {
      "image/png": "[encoded data removed]",
      "text/plain": [
       "<Figure size 432x432 with 3 Axes>"
      ]
     },
     "metadata": {
      "needs_background": "light"
     },
     "output_type": "display_data"
    }
   ],
   "source": [
    "cov19.plot.set_rcparams(cov19.plot.get_rcparams_default())\n",
    "cov19.plot.rcParams.draw_ci_50 = True\n",
    "\n",
    "fig,axes = cov19.plot.timeseries_overview(\n",
    "    this_model,\n",
    "    trace,\n",
    "    offset = countries[key][\"total_cases\"][0])"
   ]
  },
  {
   "cell_type": "markdown",
   "metadata": {},
   "source": [
    "### German"
   ]
  }
 ],
 "metadata": {
  "kernelspec": {
   "display_name": "Python 3",
   "language": "python",
   "name": "python3"
  },
  "language_info": {
   "codemirror_mode": {
    "name": "ipython",
    "version": 3
   },
   "file_extension": ".py",
   "mimetype": "text/x-python",
   "name": "python",
   "nbconvert_exporter": "python",
   "pygments_lexer": "ipython3",
   "version": "3.7.7"
  }
 },
 "nbformat": 4,
 "nbformat_minor": 4
}
