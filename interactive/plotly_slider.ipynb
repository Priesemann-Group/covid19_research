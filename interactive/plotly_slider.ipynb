{
 "cells": [
  {
   "cell_type": "code",
   "execution_count": 1,
   "metadata": {},
   "outputs": [
    {
     "data": {
      "text/html": [
       "        <script type=\"text/javascript\">\n",
       "        window.PlotlyConfig = {MathJaxConfig: 'local'};\n",
       "        if (window.MathJax) {MathJax.Hub.Config({SVG: {font: \"STIX-Web\"}});}\n",
       "        if (typeof require !== 'undefined') {\n",
       "        require.undef(\"plotly\");\n",
       "        requirejs.config({\n",
       "            paths: {\n",
       "                'plotly': ['https://cdn.plot.ly/plotly-latest.min']\n",
       "            }\n",
       "        });\n",
       "        require(['plotly'], function(Plotly) {\n",
       "            window._Plotly = Plotly;\n",
       "        });\n",
       "        }\n",
       "        </script>\n",
       "        "
      ]
     },
     "metadata": {},
     "output_type": "display_data"
    }
   ],
   "source": [
    "import pandas as pd\n",
    "from datetime import datetime\n",
    "import utils\n",
    "from plotly.offline import init_notebook_mode\n",
    "\n",
    "init_notebook_mode(connected=True)"
   ]
  },
  {
   "cell_type": "code",
   "execution_count": 2,
   "metadata": {},
   "outputs": [],
   "source": [
    "## Creates map of new cases per 1M people\n",
    "\n",
    "#Parameters\n",
    "plot_observable = 'new_1M'\n",
    "str_save = 'new_cases.html'\n",
    "value_zmax = 20 #Initial zmax for a changing definition\n",
    "average_window = 5\n",
    "str_title = \"New COVID19 cases per 1M habitants (smoothed 5 days)\"\n",
    "\n",
    "#Builds df with rolling average\n",
    "df = utils.download_jhu('cases', True)\n",
    "df['new_1M'] = 1e6*df['new']/df['pop']\n",
    "plot_observable_rolling = plot_observable + '_rolling'\n",
    "df_rolling = df.set_index('date').groupby('code').rolling(average_window)[plot_observable].mean().reset_index().rename(columns={plot_observable:plot_observable_rolling})\n",
    "df_rolling['country'] = df_rolling['code'].apply(utils.from_iso3_jhu)\n",
    "\n",
    "utils.make_map(df_rolling,plot_observable_rolling,str_title, str_save, value_zmax)"
   ]
  },
  {
   "cell_type": "code",
   "execution_count": 3,
   "metadata": {},
   "outputs": [],
   "source": [
    "## Creates map of total deaths per 1M people\n",
    "\n",
    "#Parameters\n",
    "plot_observable = 'new_1M'\n",
    "str_save = 'total_deaths.html'\n",
    "value_zmax = 20 #Initial zmax for a changing definition\n",
    "str_title = \"Total COVID19 deaths per 1M habitants\"\n",
    "\n",
    "#Builds df\n",
    "df = utils.download_jhu('deaths', False)\n",
    "df['new_1M'] = 1e6*df['deaths']/df['pop']\n",
    "df['country'] = df['code'].apply(utils.from_iso3_jhu)\n",
    "\n",
    "utils.make_map(df,'new_1M',str_title, str_save, value_zmax)"
   ]
  },
  {
   "cell_type": "code",
   "execution_count": 4,
   "metadata": {},
   "outputs": [],
   "source": [
    "## Creates map of total cases per 1M people\n",
    "\n",
    "#Parameters\n",
    "plot_observable = 'cases_1M'\n",
    "str_save = 'total_cases.html'\n",
    "value_zmax = 20 #Initial zmax for a changing definition\n",
    "str_title = \"Total COVID19 cases per 1M habitants\"\n",
    "\n",
    "#Builds df\n",
    "df = utils.download_jhu('cases', False)\n",
    "df['cases_1M'] = 1e6*df['cases']/df['pop']\n",
    "df['country'] = df['code'].apply(utils.from_iso3_jhu)\n",
    "\n",
    "utils.make_map(df,'cases_1M',str_title, str_save, value_zmax)"
   ]
  }
 ],
 "metadata": {
  "kernelspec": {
   "display_name": "Python 3",
   "language": "python",
   "name": "python3"
  },
  "language_info": {
   "codemirror_mode": {
    "name": "ipython",
    "version": 3
   },
   "file_extension": ".py",
   "mimetype": "text/x-python",
   "name": "python",
   "nbconvert_exporter": "python",
   "pygments_lexer": "ipython3",
   "version": "3.7.6"
  }
 },
 "nbformat": 4,
 "nbformat_minor": 4
}
